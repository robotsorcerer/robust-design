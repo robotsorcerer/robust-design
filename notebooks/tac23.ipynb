{
 "cells": [
  {
   "cell_type": "markdown",
   "metadata": {},
   "source": [
    "### Code for [Robust Policy Optimization in Continuous-Time Mixed $H_2/H_\\infty$ Stochastic Control](https://scriptedonachip.com/downloads/Papers/h2hinf.pdf) by Leilei Cui and Lekan Molu."
   ]
  },
  {
   "cell_type": "code",
   "execution_count": 2,
   "metadata": {
    "id": "9nQpmjr48rxH"
   },
   "outputs": [],
   "source": [
    "import copy \n",
    "import scipy\n",
    "import numpy as np\n",
    "import pandas as pd\n",
    "import control as ct\n",
    "import scipy.linalg as sla \n",
    "from scipy.signal import place_poles\n",
    "import numpy.linalg as la \n",
    "import matplotlib.pyplot as plt\n",
    "\n",
    "from scipy.linalg import solve_continuous_are as CARE\n",
    "\n",
    "# Make sure we can import required slycot routine\n",
    "try:\n",
    "    from slycot import sg02ad\n",
    "except ImportError:\n",
    "    raise print(\"Can't find slycot module 'sg02ad'\") \n",
    "    \n",
    "import sys, os \n",
    "\n",
    "sys.path.append(\"..\")\n",
    "from utils import *\n",
    "from dynsys import * \n",
    "from linearsys import * \n",
    "from hinfinity import * "
   ]
  },
  {
   "cell_type": "markdown",
   "metadata": {},
   "source": [
    "### Model-Based Algorithm\n",
    "\n",
    "+ We resort to the three link pendulum with two active joints and one passive joint as described in our paper.\n",
    "\n",
    "+ There is inherent Brownian noise in the model due to the chattering of the passive link and its loose connection to its hinge support.\n",
    "\n",
    "+ We are tasked with solving a model-based robust policy optimization in continuous-time mixed design settings."
   ]
  },
  {
   "cell_type": "markdown",
   "metadata": {},
   "source": [
    "### Set up Solvers for Riccati Equations and Matrix Identities' Definitions"
   ]
  },
  {
   "cell_type": "code",
   "execution_count": 125,
   "metadata": {},
   "outputs": [],
   "source": [
    "def QKp_mat(Q, Kp, R):\n",
    "    return Q + Kp.T@R@Kp \n",
    "\n",
    "def AKp_mat(A, B, K):\n",
    "    return A - B@K\n",
    "\n",
    "def AKLpq_mat(AKp, D, Lq):\n",
    "    return AKp + D@Lq \n",
    "\n",
    "def AKgamma(AKp, gamma, D, PKp):\n",
    "    return AKp + 1/(gamma**2)*D@D.T@PKp \n",
    "\n",
    "def Kp_plus(R, B, PKL_pq):\n",
    "    return np.linalg.inv(R) @ B.T @ PKL_pq\n",
    "\n",
    "def Lq_plus(gamma, D, PKL_pq):\n",
    "    return 1/(gamma**2)*D.T@PKL_pq \n",
    "\n",
    "import scipy as sp \n",
    "def outer_loop_riccati(A, B, D, R, Kp, Q,  PKp, PKL_pq=None, gamma=5, rtol=1e-8):\n",
    "    \"\"\"Recursively solve the outer loop's Riccati equation (10a) in the paper given by\n",
    "\n",
    "        . A_K^{p^\\top} P_{K}^{p^\\top} + P_K^p A_K^p + Q_K^p + \\gamma^{-2} P_K^p D D^\\top P_K^p = 0\n",
    "        where \n",
    "            . p is an index of the outer loop in the policy iteration of Algorithm 1.\n",
    "            . A_K^p is the outer loop's closed-loop transition matrix given by \n",
    "                A_K^p = A - B K_p.\n",
    "            . P_K^p is the cost matrix associated with the Riccati equation.\n",
    "            . Q_K^p = C^\\top C + K_p^\\top R K_p.\n",
    "            . gamma is the level of noise attenuation we want. This is user specified.\n",
    "\n",
    "        Returns\n",
    "        =======\n",
    "        PKp, Kp_cur\n",
    "    \"\"\"\n",
    "\n",
    "    n = A.shape[0]\n",
    "\n",
    "    if PKL_pq is None:\n",
    "        PKL_pq = np.ones((n,n), dtype=float)\n",
    "        \n",
    "    diff = np.linalg.norm((PKp - PKL_pq), ord='fro')\n",
    "    print(f\"diff: {diff}\")\n",
    "    while diff <= rtol:\n",
    "        AKp = AKp_mat(A, B, Kp)\n",
    "        QKp = Q + Kp.T @ R @ Kp \n",
    "\n",
    "        PKp += (AKp.T @ PKp + PKp @ AKp + QKp + 1/(gamma**2) * PKp @ D @ D.T @ PKp) \n",
    "\n",
    "        # updates \n",
    "        Kp  = Kp_plus(R, B, PKp)\n",
    "\n",
    "        diff = np.linalg.norm((PKp - PKL_pq), ord='fro')\n",
    "\n",
    "        print(\"diff: \", diff)\n",
    "\n",
    "    return PKp, Kp\n",
    "\n",
    "def inner_loop_riccati(A, B, D, Kp, QKp, PKL_pq, PK_p=None, Lq_cur=None, gamma=5, rtol=1e-8):\n",
    "    \"\"\"Recursively solve the inner loop's Riccati equation (11a) in the paper given by\n",
    "\n",
    "        . A_{K,L}^{p,q^\\top} P_{K,L}^{p,q^\\top} + P_{K,L}^{p,q^\\top} A_{K,L}^{p,q^\\top}  \\\n",
    "                + Q_{K,L}^{p,q^\\top} + \\gamma^{-2} P_{K,L}^{p,q^\\top} D D^\\top P_{K,L}^{p,q^\\top} = 0\n",
    "        where \n",
    "            . p is an index of the outer loop in the policy iteration of Algorithm 1.\n",
    "            . q is an index of the inner loop in the policy iteration of Algorithm 1.\n",
    "            . A_{K,L}^{p,q^\\top} is the inner loop's closed-loop transition matrix given by \n",
    "                A_{K,L}^{p,q^\\top} = A_K^p + D L_q(K_p).\n",
    "            . P_{K,L}^{p,q^\\top} is the cost matrix associated with the Riccati equation above.\n",
    "            . Q_{K,L}^{p,q^\\top} = C^\\top C + K_p^\\top R K_p.\n",
    "            . gamma is the level of noise attenuation we want. This is user specified.\n",
    "        \n",
    "        Returns\n",
    "        =======\n",
    "        PKL_pq, Lq_cur\n",
    "    \"\"\"\n",
    "\n",
    "    n = A.shape[0]\n",
    "    AKp = AKp_mat(A, B, Kp)\n",
    "    if Lq_cur is None:\n",
    "        Lq_cur = Lq_plus(gamma, D, PKL_pq)\n",
    "    AKL_pq = AKLpq_mat(AKp, D, Lq_cur)\n",
    "\n",
    "    if PK_p is None:\n",
    "        PK_p = np.ones((n,n), dtype=float)\n",
    "\n",
    "    while np.linalg.norm((PK_p - PKL_pq), ord='fro') <= rtol:\n",
    "\n",
    "        PKL_pq = AKL_pq.T @ PKL_pq + PKL_pq @ AKL_pq + QKp - 1/(gamma**2) * Lq_cur @ Lq_cur\n",
    "\n",
    "        Lq_cur =  Lq_plus(gamma, D, PKL_pq)\n",
    "        AK_p   = AKp_mat(A, B, Kp)\n",
    "        AKL_pq = AKLpq_mat(AKp, D, Lq_cur)\n",
    "\n",
    "    return PKL_pq, Lq_cur"
   ]
  },
  {
   "cell_type": "markdown",
   "metadata": {},
   "source": [
    "### Set up Triple Inverted Pendulum Parameters"
   ]
  },
  {
   "cell_type": "code",
   "execution_count": 107,
   "metadata": {},
   "outputs": [],
   "source": [
    "A = np.array(([\n",
    "                [12.54, -8.26, -0.39, -0.043, 2.75, -0.36],\n",
    "                [-4.38, 36.95, -3.00, 0.086, -9.57, 2.29],\n",
    "                [-6.82, -22.94, 11.93, -0.034, 6.82, -2.86]\n",
    "            ]))\n",
    "\n",
    "A = np.vstack((\n",
    "                np.hstack((np.zeros((3,3)), np.eye(3))), A               \n",
    "                ))\n",
    "B = np.array((\n",
    "            [\n",
    "                [-50.0, 6.12],\n",
    "                [174.4, -38.93],\n",
    "                [-124.2, 48.62]\n",
    "            ]))\n",
    "B = np.vstack((np.zeros((3,2)), B))\n",
    "\n",
    "C = np.vstack((np.diag((np.ones(6))), np.zeros((2,6))))\n",
    "\n",
    "D = np.vstack(( np.zeros((3,3)), np.eye(3) ))\n",
    "E = np.vstack(( np.zeros((6,2)), np.eye(2) ))\n",
    "\n",
    "gamma = 5\n",
    "\n",
    "# Matrix definitions\n",
    "\n",
    "Q = C.T @ C \n",
    "R = E.T @ E\n",
    "K = np.array(( [ [-257.5, -96.0, -39.4,  -85.6, -37.5,  -19.8],\n",
    "                 [-628.4, -236.7,  -94.1, -208.6,  -93.3,  -46.7]\n",
    "            ]   ))\n",
    "Q_K0 = QKp_mat(Q, K,  R) \n",
    "P_K0 = copy.copy(Q_K0 )"
   ]
  },
  {
   "cell_type": "code",
   "execution_count": 3,
   "metadata": {},
   "outputs": [
    {
     "data": {
      "text/plain": [
       "array([2, 4])"
      ]
     },
     "execution_count": 3,
     "metadata": {},
     "output_type": "execute_result"
    }
   ],
   "source": [
    "qd_dot = lambda t: np.array(([t, 2*t]))\n",
    "qd_dot(2)"
   ]
  },
  {
   "cell_type": "code",
   "execution_count": 108,
   "metadata": {},
   "outputs": [],
   "source": [
    "# Try solving for P0 using cvx_py\n",
    "\"\"\"\n",
    "LMI for equation 10 can be thus written:\n",
    "\n",
    "        [I_n    P_K^P][ [Q_K^p + A_K^{p\\top} P_K^p + P_K^p A_K^p, 0_{nxn}] ]           [I_n    P_K^P]^\\top\n",
    "                      [ [0_{n x n},                          \\gamma^{2} D D^\\top]] \n",
    "\n",
    "     = Q_K^p + A_K^{p\\top} P_K^p + P_K^p A_K^p+  \\gamma^{2} D D^\\top = 0\n",
    "\n",
    "     ^^^Looks like cvxpy doesn't like thje closed loop LMI expression as above esp when gamma is there. \n",
    "     Use this instead:\n",
    "      [I_n    K^p][ [Q + A_K^{p\\top} P_K^p + P_K^p A_K^p, -P_K^p B ]           [I_n    K_p]^\\top\n",
    "                      [ B.T@[P_K^p ,            \\gamma^{2} D D^\\top]] \n",
    "\n",
    "     = Q_K^p + A_K^{p\\top} P_K^p + P_K^p A_K^p+  \\gamma^{2} D D^\\top = 0\n",
    "\n",
    "\"\"\"\n",
    "import cvxpy \n",
    "\n",
    "n = A.shape[0]\n",
    "P = cvxpy.Variable((n,n), symmetric=True) \n",
    "gamma = cvxpy.Variable() \n",
    "\n",
    "AK = A - B@K\n",
    "\n",
    "LMI = cvxpy.bmat([\n",
    "                [A.T @ P + P @A + Q, P@B],\n",
    "                [B.T@P,      R] # (gamma**2) * P@D @ D.T@P\n",
    "                ])                \n",
    "cons = [LMI >>0, P==P.T, gamma>=0]\n",
    "prob = cvxpy.Problem(cvxpy.Minimize(gamma), constraints=cons)\n",
    "prob.solve()\n",
    "\n",
    "\n",
    "# solve PKL\n",
    "PKL = cvxpy.Variable((n,n), symmetric=True) \n",
    "gamma2 = cvxpy.Variable() \n",
    "Lq = Lq_plus(5, D, P.value)\n",
    "AKL = AKLpq_mat(AK, D, Lq)"
   ]
  },
  {
   "cell_type": "code",
   "execution_count": 6,
   "metadata": {},
   "outputs": [
    {
     "ename": "ValueError",
     "evalue": "Unrecognized character l in format string",
     "output_type": "error",
     "traceback": [
      "\u001b[0;31m---------------------------------------------------------------------------\u001b[0m",
      "\u001b[0;31mValueError\u001b[0m                                Traceback (most recent call last)",
      "\u001b[0;32m/tmp/ipykernel_8114/2946868035.py\u001b[0m in \u001b[0;36m<module>\u001b[0;34m\u001b[0m\n\u001b[1;32m      4\u001b[0m \u001b[0mc\u001b[0m \u001b[0;34m=\u001b[0m \u001b[0;36m0.1\u001b[0m\u001b[0;34m\u001b[0m\u001b[0;34m\u001b[0m\u001b[0m\n\u001b[1;32m      5\u001b[0m \u001b[0mbeta\u001b[0m \u001b[0;34m=\u001b[0m \u001b[0mr\u001b[0m\u001b[0;34m**\u001b[0m\u001b[0mc\u001b[0m \u001b[0;34m*\u001b[0m \u001b[0mnp\u001b[0m\u001b[0;34m.\u001b[0m\u001b[0mexp\u001b[0m\u001b[0;34m(\u001b[0m\u001b[0;34m-\u001b[0m\u001b[0ms\u001b[0m\u001b[0;34m)\u001b[0m\u001b[0;34m\u001b[0m\u001b[0;34m\u001b[0m\u001b[0m\n\u001b[0;32m----> 6\u001b[0;31m \u001b[0mplt\u001b[0m\u001b[0;34m.\u001b[0m\u001b[0mplot\u001b[0m\u001b[0;34m(\u001b[0m\u001b[0mbeta\u001b[0m\u001b[0;34m,\u001b[0m \u001b[0mr\u001b[0m\u001b[0;34m,\u001b[0m \u001b[0;34m'color'\u001b[0m\u001b[0;34m,\u001b[0m \u001b[0;34m'blue'\u001b[0m\u001b[0;34m)\u001b[0m\u001b[0;34m\u001b[0m\u001b[0;34m\u001b[0m\u001b[0m\n\u001b[0m\u001b[1;32m      7\u001b[0m \u001b[0mplt\u001b[0m\u001b[0;34m.\u001b[0m\u001b[0mplot\u001b[0m\u001b[0;34m(\u001b[0m\u001b[0mbeta\u001b[0m\u001b[0;34m,\u001b[0m \u001b[0ms\u001b[0m\u001b[0;34m,\u001b[0m \u001b[0;34m'color'\u001b[0m\u001b[0;34m,\u001b[0m \u001b[0;34m'red'\u001b[0m\u001b[0;34m)\u001b[0m\u001b[0;34m\u001b[0m\u001b[0;34m\u001b[0m\u001b[0m\n\u001b[1;32m      8\u001b[0m \u001b[0mplt\u001b[0m\u001b[0;34m.\u001b[0m\u001b[0mshow\u001b[0m\u001b[0;34m(\u001b[0m\u001b[0;34m)\u001b[0m\u001b[0;34m\u001b[0m\u001b[0;34m\u001b[0m\u001b[0m\n",
      "\u001b[0;32m~/anaconda3/envs/38/lib/python3.8/site-packages/matplotlib/pyplot.py\u001b[0m in \u001b[0;36mplot\u001b[0;34m(scalex, scaley, data, *args, **kwargs)\u001b[0m\n\u001b[1;32m   2755\u001b[0m \u001b[0;34m@\u001b[0m\u001b[0m_copy_docstring_and_deprecators\u001b[0m\u001b[0;34m(\u001b[0m\u001b[0mAxes\u001b[0m\u001b[0;34m.\u001b[0m\u001b[0mplot\u001b[0m\u001b[0;34m)\u001b[0m\u001b[0;34m\u001b[0m\u001b[0;34m\u001b[0m\u001b[0m\n\u001b[1;32m   2756\u001b[0m \u001b[0;32mdef\u001b[0m \u001b[0mplot\u001b[0m\u001b[0;34m(\u001b[0m\u001b[0;34m*\u001b[0m\u001b[0margs\u001b[0m\u001b[0;34m,\u001b[0m \u001b[0mscalex\u001b[0m\u001b[0;34m=\u001b[0m\u001b[0;32mTrue\u001b[0m\u001b[0;34m,\u001b[0m \u001b[0mscaley\u001b[0m\u001b[0;34m=\u001b[0m\u001b[0;32mTrue\u001b[0m\u001b[0;34m,\u001b[0m \u001b[0mdata\u001b[0m\u001b[0;34m=\u001b[0m\u001b[0;32mNone\u001b[0m\u001b[0;34m,\u001b[0m \u001b[0;34m**\u001b[0m\u001b[0mkwargs\u001b[0m\u001b[0;34m)\u001b[0m\u001b[0;34m:\u001b[0m\u001b[0;34m\u001b[0m\u001b[0;34m\u001b[0m\u001b[0m\n\u001b[0;32m-> 2757\u001b[0;31m     return gca().plot(\n\u001b[0m\u001b[1;32m   2758\u001b[0m         \u001b[0;34m*\u001b[0m\u001b[0margs\u001b[0m\u001b[0;34m,\u001b[0m \u001b[0mscalex\u001b[0m\u001b[0;34m=\u001b[0m\u001b[0mscalex\u001b[0m\u001b[0;34m,\u001b[0m \u001b[0mscaley\u001b[0m\u001b[0;34m=\u001b[0m\u001b[0mscaley\u001b[0m\u001b[0;34m,\u001b[0m\u001b[0;34m\u001b[0m\u001b[0;34m\u001b[0m\u001b[0m\n\u001b[1;32m   2759\u001b[0m         **({\"data\": data} if data is not None else {}), **kwargs)\n",
      "\u001b[0;32m~/anaconda3/envs/38/lib/python3.8/site-packages/matplotlib/axes/_axes.py\u001b[0m in \u001b[0;36mplot\u001b[0;34m(self, scalex, scaley, data, *args, **kwargs)\u001b[0m\n\u001b[1;32m   1630\u001b[0m         \"\"\"\n\u001b[1;32m   1631\u001b[0m         \u001b[0mkwargs\u001b[0m \u001b[0;34m=\u001b[0m \u001b[0mcbook\u001b[0m\u001b[0;34m.\u001b[0m\u001b[0mnormalize_kwargs\u001b[0m\u001b[0;34m(\u001b[0m\u001b[0mkwargs\u001b[0m\u001b[0;34m,\u001b[0m \u001b[0mmlines\u001b[0m\u001b[0;34m.\u001b[0m\u001b[0mLine2D\u001b[0m\u001b[0;34m)\u001b[0m\u001b[0;34m\u001b[0m\u001b[0;34m\u001b[0m\u001b[0m\n\u001b[0;32m-> 1632\u001b[0;31m         \u001b[0mlines\u001b[0m \u001b[0;34m=\u001b[0m \u001b[0;34m[\u001b[0m\u001b[0;34m*\u001b[0m\u001b[0mself\u001b[0m\u001b[0;34m.\u001b[0m\u001b[0m_get_lines\u001b[0m\u001b[0;34m(\u001b[0m\u001b[0;34m*\u001b[0m\u001b[0margs\u001b[0m\u001b[0;34m,\u001b[0m \u001b[0mdata\u001b[0m\u001b[0;34m=\u001b[0m\u001b[0mdata\u001b[0m\u001b[0;34m,\u001b[0m \u001b[0;34m**\u001b[0m\u001b[0mkwargs\u001b[0m\u001b[0;34m)\u001b[0m\u001b[0;34m]\u001b[0m\u001b[0;34m\u001b[0m\u001b[0;34m\u001b[0m\u001b[0m\n\u001b[0m\u001b[1;32m   1633\u001b[0m         \u001b[0;32mfor\u001b[0m \u001b[0mline\u001b[0m \u001b[0;32min\u001b[0m \u001b[0mlines\u001b[0m\u001b[0;34m:\u001b[0m\u001b[0;34m\u001b[0m\u001b[0;34m\u001b[0m\u001b[0m\n\u001b[1;32m   1634\u001b[0m             \u001b[0mself\u001b[0m\u001b[0;34m.\u001b[0m\u001b[0madd_line\u001b[0m\u001b[0;34m(\u001b[0m\u001b[0mline\u001b[0m\u001b[0;34m)\u001b[0m\u001b[0;34m\u001b[0m\u001b[0;34m\u001b[0m\u001b[0m\n",
      "\u001b[0;32m~/anaconda3/envs/38/lib/python3.8/site-packages/matplotlib/axes/_base.py\u001b[0m in \u001b[0;36m__call__\u001b[0;34m(self, data, *args, **kwargs)\u001b[0m\n\u001b[1;32m    310\u001b[0m                 \u001b[0mthis\u001b[0m \u001b[0;34m+=\u001b[0m \u001b[0margs\u001b[0m\u001b[0;34m[\u001b[0m\u001b[0;36m0\u001b[0m\u001b[0;34m]\u001b[0m\u001b[0;34m,\u001b[0m\u001b[0;34m\u001b[0m\u001b[0;34m\u001b[0m\u001b[0m\n\u001b[1;32m    311\u001b[0m                 \u001b[0margs\u001b[0m \u001b[0;34m=\u001b[0m \u001b[0margs\u001b[0m\u001b[0;34m[\u001b[0m\u001b[0;36m1\u001b[0m\u001b[0;34m:\u001b[0m\u001b[0;34m]\u001b[0m\u001b[0;34m\u001b[0m\u001b[0;34m\u001b[0m\u001b[0m\n\u001b[0;32m--> 312\u001b[0;31m             \u001b[0;32myield\u001b[0m \u001b[0;32mfrom\u001b[0m \u001b[0mself\u001b[0m\u001b[0;34m.\u001b[0m\u001b[0m_plot_args\u001b[0m\u001b[0;34m(\u001b[0m\u001b[0mthis\u001b[0m\u001b[0;34m,\u001b[0m \u001b[0mkwargs\u001b[0m\u001b[0;34m)\u001b[0m\u001b[0;34m\u001b[0m\u001b[0;34m\u001b[0m\u001b[0m\n\u001b[0m\u001b[1;32m    313\u001b[0m \u001b[0;34m\u001b[0m\u001b[0m\n\u001b[1;32m    314\u001b[0m     \u001b[0;32mdef\u001b[0m \u001b[0mget_next_color\u001b[0m\u001b[0;34m(\u001b[0m\u001b[0mself\u001b[0m\u001b[0;34m)\u001b[0m\u001b[0;34m:\u001b[0m\u001b[0;34m\u001b[0m\u001b[0;34m\u001b[0m\u001b[0m\n",
      "\u001b[0;32m~/anaconda3/envs/38/lib/python3.8/site-packages/matplotlib/axes/_base.py\u001b[0m in \u001b[0;36m_plot_args\u001b[0;34m(self, tup, kwargs, return_kwargs)\u001b[0m\n\u001b[1;32m    447\u001b[0m             \u001b[0;31m# xy is tup with fmt stripped (could still be (y,) only)\u001b[0m\u001b[0;34m\u001b[0m\u001b[0;34m\u001b[0m\u001b[0;34m\u001b[0m\u001b[0m\n\u001b[1;32m    448\u001b[0m             \u001b[0;34m*\u001b[0m\u001b[0mxy\u001b[0m\u001b[0;34m,\u001b[0m \u001b[0mfmt\u001b[0m \u001b[0;34m=\u001b[0m \u001b[0mtup\u001b[0m\u001b[0;34m\u001b[0m\u001b[0;34m\u001b[0m\u001b[0m\n\u001b[0;32m--> 449\u001b[0;31m             \u001b[0mlinestyle\u001b[0m\u001b[0;34m,\u001b[0m \u001b[0mmarker\u001b[0m\u001b[0;34m,\u001b[0m \u001b[0mcolor\u001b[0m \u001b[0;34m=\u001b[0m \u001b[0m_process_plot_format\u001b[0m\u001b[0;34m(\u001b[0m\u001b[0mfmt\u001b[0m\u001b[0;34m)\u001b[0m\u001b[0;34m\u001b[0m\u001b[0;34m\u001b[0m\u001b[0m\n\u001b[0m\u001b[1;32m    450\u001b[0m         \u001b[0;32melif\u001b[0m \u001b[0mlen\u001b[0m\u001b[0;34m(\u001b[0m\u001b[0mtup\u001b[0m\u001b[0;34m)\u001b[0m \u001b[0;34m==\u001b[0m \u001b[0;36m3\u001b[0m\u001b[0;34m:\u001b[0m\u001b[0;34m\u001b[0m\u001b[0;34m\u001b[0m\u001b[0m\n\u001b[1;32m    451\u001b[0m             \u001b[0;32mraise\u001b[0m \u001b[0mValueError\u001b[0m\u001b[0;34m(\u001b[0m\u001b[0;34m'third arg must be a format string'\u001b[0m\u001b[0;34m)\u001b[0m\u001b[0;34m\u001b[0m\u001b[0;34m\u001b[0m\u001b[0m\n",
      "\u001b[0;32m~/anaconda3/envs/38/lib/python3.8/site-packages/matplotlib/axes/_base.py\u001b[0m in \u001b[0;36m_process_plot_format\u001b[0;34m(fmt)\u001b[0m\n\u001b[1;32m    197\u001b[0m             \u001b[0mi\u001b[0m \u001b[0;34m+=\u001b[0m \u001b[0;36m2\u001b[0m\u001b[0;34m\u001b[0m\u001b[0;34m\u001b[0m\u001b[0m\n\u001b[1;32m    198\u001b[0m         \u001b[0;32melse\u001b[0m\u001b[0;34m:\u001b[0m\u001b[0;34m\u001b[0m\u001b[0;34m\u001b[0m\u001b[0m\n\u001b[0;32m--> 199\u001b[0;31m             raise ValueError(\n\u001b[0m\u001b[1;32m    200\u001b[0m                 'Unrecognized character %c in format string' % c)\n\u001b[1;32m    201\u001b[0m \u001b[0;34m\u001b[0m\u001b[0m\n",
      "\u001b[0;31mValueError\u001b[0m: Unrecognized character l in format string"
     ]
    },
    {
     "data": {
      "image/png": "[encoded data removed]",
      "text/plain": [
       "<Figure size 432x288 with 1 Axes>"
      ]
     },
     "metadata": {
      "needs_background": "light"
     },
     "output_type": "display_data"
    }
   ],
   "source": [
    "### Class \\mathcal{K}-\\ell function\n",
    "r = np.linspace(1, 5, 50)\n",
    "s = 4*r \n",
    "c = 0.1\n",
    "beta = r**c * np.exp(-s)\n",
    "plt.plot(beta, r, 'color', 'blue')\n",
    "plt.plot(beta, s, 'color', 'red')\n",
    "plt.show()"
   ]
  },
  {
   "cell_type": "code",
   "execution_count": 126,
   "metadata": {},
   "outputs": [
    {
     "name": "stdout",
     "output_type": "stream",
     "text": [
      "diff: 6.150981614077653\n",
      "Outer loop iter: 0: Kp: [[-257.5  -96.   -39.4  -85.6  -37.5  -19.8]\n",
      " [-628.4 -236.7  -94.1 -208.6  -93.3  -46.7]]\n",
      "\n",
      "diff: 6.150981614077653\n",
      "Outer loop iter: 1: Kp: [[-257.5  -96.   -39.4  -85.6  -37.5  -19.8]\n",
      " [-628.4 -236.7  -94.1 -208.6  -93.3  -46.7]]\n",
      "\n",
      "diff: 6.150981614077653\n",
      "Outer loop iter: 2: Kp: [[-257.5  -96.   -39.4  -85.6  -37.5  -19.8]\n",
      " [-628.4 -236.7  -94.1 -208.6  -93.3  -46.7]]\n",
      "\n",
      "diff: 6.150981614077653\n",
      "Outer loop iter: 3: Kp: [[-257.5  -96.   -39.4  -85.6  -37.5  -19.8]\n",
      " [-628.4 -236.7  -94.1 -208.6  -93.3  -46.7]]\n",
      "\n",
      "diff: 6.150981614077653\n",
      "Outer loop iter: 4: Kp: [[-257.5  -96.   -39.4  -85.6  -37.5  -19.8]\n",
      " [-628.4 -236.7  -94.1 -208.6  -93.3  -46.7]]\n",
      "\n",
      "diff: 6.150981614077653\n",
      "Outer loop iter: 5: Kp: [[-257.5  -96.   -39.4  -85.6  -37.5  -19.8]\n",
      " [-628.4 -236.7  -94.1 -208.6  -93.3  -46.7]]\n",
      "\n",
      "diff: 6.150981614077653\n",
      "Outer loop iter: 6: Kp: [[-257.5  -96.   -39.4  -85.6  -37.5  -19.8]\n",
      " [-628.4 -236.7  -94.1 -208.6  -93.3  -46.7]]\n",
      "\n",
      "diff: 6.150981614077653\n",
      "Outer loop iter: 7: Kp: [[-257.5  -96.   -39.4  -85.6  -37.5  -19.8]\n",
      " [-628.4 -236.7  -94.1 -208.6  -93.3  -46.7]]\n",
      "\n",
      "diff: 6.150981614077653\n",
      "Outer loop iter: 8: Kp: [[-257.5  -96.   -39.4  -85.6  -37.5  -19.8]\n",
      " [-628.4 -236.7  -94.1 -208.6  -93.3  -46.7]]\n",
      "\n",
      "diff: 6.150981614077653\n",
      "Outer loop iter: 9: Kp: [[-257.5  -96.   -39.4  -85.6  -37.5  -19.8]\n",
      " [-628.4 -236.7  -94.1 -208.6  -93.3  -46.7]]\n",
      "\n",
      "diff: 6.150981614077653\n",
      "Outer loop iter: 10: Kp: [[-257.5  -96.   -39.4  -85.6  -37.5  -19.8]\n",
      " [-628.4 -236.7  -94.1 -208.6  -93.3  -46.7]]\n",
      "\n",
      "diff: 6.150981614077653\n",
      "Outer loop iter: 11: Kp: [[-257.5  -96.   -39.4  -85.6  -37.5  -19.8]\n",
      " [-628.4 -236.7  -94.1 -208.6  -93.3  -46.7]]\n",
      "\n",
      "diff: 6.150981614077653\n",
      "Outer loop iter: 12: Kp: [[-257.5  -96.   -39.4  -85.6  -37.5  -19.8]\n",
      " [-628.4 -236.7  -94.1 -208.6  -93.3  -46.7]]\n",
      "\n",
      "diff: 6.150981614077653\n",
      "Outer loop iter: 13: Kp: [[-257.5  -96.   -39.4  -85.6  -37.5  -19.8]\n",
      " [-628.4 -236.7  -94.1 -208.6  -93.3  -46.7]]\n",
      "\n",
      "diff: 6.150981614077653\n",
      "Outer loop iter: 14: Kp: [[-257.5  -96.   -39.4  -85.6  -37.5  -19.8]\n",
      " [-628.4 -236.7  -94.1 -208.6  -93.3  -46.7]]\n",
      "\n",
      "diff: 6.150981614077653\n",
      "Outer loop iter: 15: Kp: [[-257.5  -96.   -39.4  -85.6  -37.5  -19.8]\n",
      " [-628.4 -236.7  -94.1 -208.6  -93.3  -46.7]]\n",
      "\n",
      "diff: 6.150981614077653\n",
      "Outer loop iter: 16: Kp: [[-257.5  -96.   -39.4  -85.6  -37.5  -19.8]\n",
      " [-628.4 -236.7  -94.1 -208.6  -93.3  -46.7]]\n",
      "\n",
      "diff: 6.150981614077653\n",
      "Outer loop iter: 17: Kp: [[-257.5  -96.   -39.4  -85.6  -37.5  -19.8]\n",
      " [-628.4 -236.7  -94.1 -208.6  -93.3  -46.7]]\n",
      "\n",
      "diff: 6.150981614077653\n",
      "Outer loop iter: 18: Kp: [[-257.5  -96.   -39.4  -85.6  -37.5  -19.8]\n",
      " [-628.4 -236.7  -94.1 -208.6  -93.3  -46.7]]\n",
      "\n",
      "diff: 6.150981614077653\n",
      "Outer loop iter: 19: Kp: [[-257.5  -96.   -39.4  -85.6  -37.5  -19.8]\n",
      " [-628.4 -236.7  -94.1 -208.6  -93.3  -46.7]]\n",
      "\n",
      "diff: 6.150981614077653\n",
      "Outer loop iter: 20: Kp: [[-257.5  -96.   -39.4  -85.6  -37.5  -19.8]\n",
      " [-628.4 -236.7  -94.1 -208.6  -93.3  -46.7]]\n",
      "\n",
      "diff: 6.150981614077653\n",
      "Outer loop iter: 21: Kp: [[-257.5  -96.   -39.4  -85.6  -37.5  -19.8]\n",
      " [-628.4 -236.7  -94.1 -208.6  -93.3  -46.7]]\n",
      "\n",
      "diff: 6.150981614077653\n",
      "Outer loop iter: 22: Kp: [[-257.5  -96.   -39.4  -85.6  -37.5  -19.8]\n",
      " [-628.4 -236.7  -94.1 -208.6  -93.3  -46.7]]\n",
      "\n",
      "diff: 6.150981614077653\n",
      "Outer loop iter: 23: Kp: [[-257.5  -96.   -39.4  -85.6  -37.5  -19.8]\n",
      " [-628.4 -236.7  -94.1 -208.6  -93.3  -46.7]]\n",
      "\n",
      "diff: 6.150981614077653\n",
      "Outer loop iter: 24: Kp: [[-257.5  -96.   -39.4  -85.6  -37.5  -19.8]\n",
      " [-628.4 -236.7  -94.1 -208.6  -93.3  -46.7]]\n",
      "\n",
      "diff: 6.150981614077653\n",
      "Outer loop iter: 25: Kp: [[-257.5  -96.   -39.4  -85.6  -37.5  -19.8]\n",
      " [-628.4 -236.7  -94.1 -208.6  -93.3  -46.7]]\n",
      "\n",
      "diff: 6.150981614077653\n",
      "Outer loop iter: 26: Kp: [[-257.5  -96.   -39.4  -85.6  -37.5  -19.8]\n",
      " [-628.4 -236.7  -94.1 -208.6  -93.3  -46.7]]\n",
      "\n",
      "diff: 6.150981614077653\n",
      "Outer loop iter: 27: Kp: [[-257.5  -96.   -39.4  -85.6  -37.5  -19.8]\n",
      " [-628.4 -236.7  -94.1 -208.6  -93.3  -46.7]]\n",
      "\n",
      "diff: 6.150981614077653\n",
      "Outer loop iter: 28: Kp: [[-257.5  -96.   -39.4  -85.6  -37.5  -19.8]\n",
      " [-628.4 -236.7  -94.1 -208.6  -93.3  -46.7]]\n",
      "\n",
      "diff: 6.150981614077653\n",
      "Outer loop iter: 29: Kp: [[-257.5  -96.   -39.4  -85.6  -37.5  -19.8]\n",
      " [-628.4 -236.7  -94.1 -208.6  -93.3  -46.7]]\n",
      "\n",
      "diff: 6.150981614077653\n",
      "Outer loop iter: 30: Kp: [[-257.5  -96.   -39.4  -85.6  -37.5  -19.8]\n",
      " [-628.4 -236.7  -94.1 -208.6  -93.3  -46.7]]\n",
      "\n",
      "diff: 6.150981614077653\n",
      "Outer loop iter: 31: Kp: [[-257.5  -96.   -39.4  -85.6  -37.5  -19.8]\n",
      " [-628.4 -236.7  -94.1 -208.6  -93.3  -46.7]]\n",
      "\n",
      "diff: 6.150981614077653\n",
      "Outer loop iter: 32: Kp: [[-257.5  -96.   -39.4  -85.6  -37.5  -19.8]\n",
      " [-628.4 -236.7  -94.1 -208.6  -93.3  -46.7]]\n",
      "\n",
      "diff: 6.150981614077653\n",
      "Outer loop iter: 33: Kp: [[-257.5  -96.   -39.4  -85.6  -37.5  -19.8]\n",
      " [-628.4 -236.7  -94.1 -208.6  -93.3  -46.7]]\n",
      "\n",
      "diff: 6.150981614077653\n",
      "Outer loop iter: 34: Kp: [[-257.5  -96.   -39.4  -85.6  -37.5  -19.8]\n",
      " [-628.4 -236.7  -94.1 -208.6  -93.3  -46.7]]\n",
      "\n",
      "diff: 6.150981614077653\n",
      "Outer loop iter: 35: Kp: [[-257.5  -96.   -39.4  -85.6  -37.5  -19.8]\n",
      " [-628.4 -236.7  -94.1 -208.6  -93.3  -46.7]]\n",
      "\n",
      "diff: 6.150981614077653\n",
      "Outer loop iter: 36: Kp: [[-257.5  -96.   -39.4  -85.6  -37.5  -19.8]\n",
      " [-628.4 -236.7  -94.1 -208.6  -93.3  -46.7]]\n",
      "\n",
      "diff: 6.150981614077653\n",
      "Outer loop iter: 37: Kp: [[-257.5  -96.   -39.4  -85.6  -37.5  -19.8]\n",
      " [-628.4 -236.7  -94.1 -208.6  -93.3  -46.7]]\n",
      "\n",
      "diff: 6.150981614077653\n",
      "Outer loop iter: 38: Kp: [[-257.5  -96.   -39.4  -85.6  -37.5  -19.8]\n",
      " [-628.4 -236.7  -94.1 -208.6  -93.3  -46.7]]\n",
      "\n",
      "diff: 6.150981614077653\n",
      "Outer loop iter: 39: Kp: [[-257.5  -96.   -39.4  -85.6  -37.5  -19.8]\n",
      " [-628.4 -236.7  -94.1 -208.6  -93.3  -46.7]]\n",
      "\n"
     ]
    }
   ],
   "source": [
    "pbar=40\n",
    "Kp = copy.copy(K)\n",
    "for p in range(pbar):\n",
    "    Q_Kp = QKp_mat(Q, Kp,  R) \n",
    "    PKp, Kp = outer_loop_riccati(A, B, D, R, Kp, Q, PKp=P.value, PKL_pq=None, gamma=5, rtol=1e-8)\n",
    "    print(f\"Outer loop iter: {p}: Kp: {Kp}\\n\")"
   ]
  },
  {
   "cell_type": "code",
   "execution_count": null,
   "metadata": {
    "id": "EBuhqXiD8rxP"
   },
   "outputs": [],
   "source": [
    "def system(dt, x, u):\n",
    "    '''\n",
    "    Discretized Linear Dynamics of the system dx = (Ax+Bu)dt + Ddw by E-M\n",
    "    Input:\n",
    "        dt: time step to \n",
    "        x: state of the system, 6 dim\n",
    "        u: control input of the system, 2 dim\n",
    "    Output:\n",
    "        x_next: state at the next step\n",
    "    '''\n",
    "    A = np.concatenate((np.zeros((3,3)), np.eye(3)), axis = 1)\n",
    "    A_ = np.array([[12.54, -8.26, -0.39, -0.043, 2.75, -0.36],\n",
    "                   [-4.38, 36.95, -3.00, 0.086, -9.57, 2.29],\n",
    "                   [-6.82, -22.94, 11.93, -0.034, 6.82, -2.86]])\n",
    "    A = np.concatenate((A, A_), axis = 0)\n",
    "    \n",
    "    B = np.array([[-50.0, 6.12],\n",
    "                  [174.4, -38.93],\n",
    "                  [-124.2, 48.62]])\n",
    "    B = np.concatenate((np.zeros((3,2)), B), axis = 0)\n",
    "    \n",
    "    D = np.concatenate((np.zeros((3,3)), np.eye(3)), axis = 0)\n",
    "    \n",
    "    xi = np.random.normal(0,1,3)\n",
    "    x_next = x + (A@x+B@u)*dt + D@xi*np.sqrt(dt)\n",
    "    \n",
    "    return x_next\n",
    "\n",
    "\n",
    "def int_system(dt, tf, x0, K, sigma):\n",
    "    '''\n",
    "    Intergrate the sde from 0 to tf\n",
    "    Input:\n",
    "        dt: time step to discrete the system\n",
    "        tf: terminal time of the integral\n",
    "        x0: initial state\n",
    "        K: Controller\n",
    "        sigma: magnitude of exploratory noise\n",
    "    Output:\n",
    "        X: state trajectory from 0 to tf\n",
    "        U: input trajectory from 0 to tf\n",
    "    '''\n",
    "    N = int(tf/dt)\n",
    "    X = np.zeros((N+1,6))\n",
    "    U = np.zeros((N,2))\n",
    "    X[0,:] = x0\n",
    "      \n",
    "    y = np.zeros(2)\n",
    "    \n",
    "    for i in range(N):\n",
    "        t = i*dt\n",
    "        y = y - y*dt + np.random.normal(0,1,2)*np.sqrt(dt)\n",
    "        u = -K@X[i,:] + sigma*y\n",
    "        x_next = system(dt, X[i,:], u)\n",
    "        X[i+1,:] = x_next\n",
    "        U[i,:] = u\n",
    "        \n",
    "    return X, U\n",
    "        "
   ]
  },
  {
   "cell_type": "code",
   "execution_count": null,
   "metadata": {
    "colab": {
     "base_uri": "https://localhost:8080/",
     "height": 270
    },
    "id": "V2uPJxpJ8rxQ",
    "outputId": "ebdb3a0c-2fee-43f2-a318-99fce2fd3376"
   },
   "outputs": [
    {
     "data": {
      "image/png": "[encoded data removed]",
      "text/plain": [
       "<Figure size 432x288 with 1 Axes>"
      ]
     },
     "metadata": {
      "needs_background": "light"
     },
     "output_type": "display_data"
    }
   ],
   "source": [
    "# run system and collect the data\n",
    "dt = 0.001\n",
    "tf = 1500.0\n",
    "sigma = 10\n",
    "K_init = np.array([[-257.5,\t-96.0,\t-39.4,\t-85.6,\t-37.5,\t-19.8],\n",
    "[-628.4,\t-236.7,\t-94.1,\t-208.6,\t-93.3,\t-46.7]]) \n",
    "# x0 = np.random.normal(0,1,6)\n",
    "x0 = np.zeros(6)\n",
    "T = np.arange(0., tf+dt, dt)\n",
    "X, U = int_system(dt, tf, x0, K_init, sigma)\n",
    "\n",
    "plt.plot(T, X)\n",
    "plt.show()"
   ]
  },
  {
   "cell_type": "code",
   "execution_count": null,
   "metadata": {
    "id": "HIkrjQYU8rxS"
   },
   "outputs": [],
   "source": [
    "# Required data matrices for learning algorithm\n",
    "xn = np.size(X,1) #state dim\n",
    "un = np.size(U,1) #control dim\n",
    "wn = 3 #disturbance dim\n",
    "n_vecv = int((xn+1)*xn/2)\n",
    "n_phi = n_vecv + xn*un + 1\n",
    "n_data = len(U) # the total num of data\n",
    "\n",
    "Phi = np.zeros((n_phi, n_phi))\n",
    "Xi = np.zeros((n_phi, n_vecv))\n",
    "\n",
    "for i in range(n_data):\n",
    "    phi = np.concatenate((vecv(X[i]), 2*np.kron(X[i],U[i])), axis = 0)\n",
    "    phi = np.concatenate((phi, np.ones(1)), axis = 0)\n",
    "    Phi += np.outer(phi,phi)*dt\n",
    "    Xi += np.outer(phi,(vecv(X[i+1])-vecv(X[i])))\n",
    "\n",
    "Phi = Phi/tf\n",
    "Xi = Xi/tf    \n",
    "Phi_inv = np.linalg.pinv(Phi)\n",
    "        "
   ]
  },
  {
   "cell_type": "code",
   "execution_count": null,
   "metadata": {
    "id": "gvhvN0oCdqae"
   },
   "outputs": [],
   "source": [
    "A = np.concatenate((np.zeros((3,3)), np.eye(3)), axis = 1)\n",
    "A_ = np.array([[12.54, -8.26, -0.39, -0.043, 2.75, -0.36],\n",
    "    [-4.38, 36.95, -3.00, 0.086, -9.57, 2.29],\n",
    "    [-6.82, -22.94, 11.93, -0.034, 6.82, -2.86]])\n",
    "A = np.concatenate((A, A_), axis = 0)\n",
    "\n",
    "B = np.array([[-50.0, 6.12],\n",
    "    [174.4, -38.93],\n",
    "    [-124.2, 48.62]])\n",
    "B = np.concatenate((np.zeros((3,2)), B), axis = 0)\n"
   ]
  },
  {
   "cell_type": "code",
   "execution_count": null,
   "metadata": {
    "id": "hCw8PUsS8rxS"
   },
   "outputs": [],
   "source": [
    "# Learning-based algorithm\n",
    "Q = 1*np.eye(xn)\n",
    "R = np.eye(un)\n",
    "I = 20 # number of iterations for outer Loop\n",
    "J = 30 # number of iterations for inner Loop\n",
    "gamma = 5\n",
    "\n",
    "D = np.concatenate((np.zeros((3,3)), 1*np.eye(3)), axis = 0)\n",
    "\n",
    "K = np.array([[-257.5,\t-96.0,\t-39.4,\t-85.6,\t-37.5,\t-19.8],\n",
    "[-628.4,\t-236.7,\t-94.1,\t-208.6,\t-93.3,\t-46.7]])\n",
    "\n",
    "T_v_vs, T_vs_v  = trans_vec_vecs(xn)\n",
    "T_vt = Trans_vec(un,xn)\n",
    "\n",
    "P_storage = np.zeros((I,xn,xn)) #store the P matrices at each iteration\n",
    "K_storage = np.zeros((I,un,xn)) #store the K matrices\n",
    "\n",
    "for i in range(I):\n",
    "    L = np.zeros((wn, xn))\n",
    "    for j in range(J):\n",
    "        LD = np.kron(np.eye(xn), np.transpose(L)@np.transpose(D)) + np.kron(np.transpose(L)@np.transpose(D), np.eye(xn))\n",
    "        LD = T_v_vs@LD@T_vs_v\n",
    "        KI = T_v_vs@(np.kron(np.eye(xn), np.transpose(K)) + np.kron(np.transpose(K), np.eye(xn))@T_vt)\n",
    "        Q_KL = Q + np.transpose(K)@R@K - gamma**2*np.transpose(L)@L\n",
    "\n",
    "        Lambda = Phi_inv[0:n_vecv,:]@Xi - KI@Phi_inv[n_vecv:n_vecv+xn*un,:]@Xi + LD\n",
    "        P_vecs = -np.linalg.pinv(Lambda)@vecs(Q_KL)\n",
    "        P = vecs_inv(P_vecs)\n",
    "        L = gamma**(-2)*np.transpose(D)@P\n",
    "        \n",
    "    BP = Phi_inv[n_vecv:n_vecv+xn*un,:]@Xi@P_vecs\n",
    "    BP = BP.reshape((xn,un))\n",
    "    K = np.linalg.pinv(R)@np.transpose(BP)\n",
    "\n",
    "    P_storage[i] = P\n",
    "    K_storage[i] = K\n",
    "\n"
   ]
  },
  {
   "cell_type": "code",
   "execution_count": null,
   "metadata": {
    "id": "vRzDjzdQ8rxU"
   },
   "outputs": [],
   "source": [
    "\n",
    "#calculate the optimal value\n",
    "P_opt, K_opt, L_opt = solve_ARE(A, B, D, Q, R, gamma)\n",
    "\n"
   ]
  },
  {
   "cell_type": "code",
   "execution_count": null,
   "metadata": {
    "colab": {
     "base_uri": "https://localhost:8080/",
     "height": 567
    },
    "id": "DhaBFChOuG0T",
    "outputId": "56f8dbc5-fd3c-4b8d-f8e5-26a1b6a17ae2"
   },
   "outputs": [
    {
     "data": {
      "image/png": "[encoded data removed]",
      "text/plain": [
       "<Figure size 432x288 with 1 Axes>"
      ]
     },
     "metadata": {
      "needs_background": "light"
     },
     "output_type": "display_data"
    },
    {
     "data": {
      "image/png": "[encoded data removed]",
      "text/plain": [
       "<Figure size 432x288 with 1 Axes>"
      ]
     },
     "metadata": {
      "needs_background": "light"
     },
     "output_type": "display_data"
    }
   ],
   "source": [
    "plt.rc('xtick', labelsize=15) \n",
    "plt.rc('ytick', labelsize=15) \n",
    "\n",
    "P_norm = np.zeros(I)\n",
    "K_norm = np.zeros(I)\n",
    "for i in range(I):\n",
    "    P_norm[i] = np.linalg.norm(P_storage[i]-P_opt)/np.linalg.norm(P_opt)\n",
    "    K_norm[i] = np.linalg.norm(K_storage[i]-K_opt)/np.linalg.norm(K_opt)\n",
    "\n",
    "It = np.linspace(start=0,stop=I,num=I,endpoint=False)\n",
    "plt.plot(It, P_norm, '*-', linewidth=2.0, markersize=10)\n",
    "plt.xlabel('Iterations', fontsize=18)\n",
    "plt.ylabel('${||\\hat{P}_{K_i}-P_{*}||}/{||P_{*}||}$', fontsize=18)\n",
    "plt.show()\n",
    "\n",
    "plt.plot(It, K_norm, '*-', linewidth=2.0, markersize=12)\n",
    "plt.xlabel('Iterations', fontsize=18)\n",
    "plt.ylabel('${||\\hat{K}_{i}-K_{*}||}/{||K_{*}||}$', fontsize=18)\n",
    "plt.show()"
   ]
  },
  {
   "cell_type": "code",
   "execution_count": null,
   "metadata": {
    "colab": {
     "base_uri": "https://localhost:8080/",
     "height": 270
    },
    "id": "wM-efRKW8rxV",
    "outputId": "b0682eb1-708d-46a4-f378-7d6f5f40592a"
   },
   "outputs": [
    {
     "data": {
      "image/png": "[encoded data removed]",
      "text/plain": [
       "<Figure size 432x288 with 1 Axes>"
      ]
     },
     "metadata": {
      "needs_background": "light"
     },
     "output_type": "display_data"
    }
   ],
   "source": [
    "# test the learned controller\n",
    "sigma = 0.0\n",
    "x0 = np.random.normal(0,1,6)\n",
    "T = np.arange(0., 10.0+dt, dt)\n",
    "X_test, U_test = int_system(dt, 10.0, x0, K, sigma)\n",
    "plt.plot(T, X_test)\n",
    "plt.show()"
   ]
  },
  {
   "cell_type": "code",
   "execution_count": null,
   "metadata": {
    "colab": {
     "base_uri": "https://localhost:8080/"
    },
    "id": "KQaKYBbc8rxV",
    "outputId": "8efa7ecc-d6f5-4bdb-dc97-eef956f9dad1"
   },
   "outputs": [
    {
     "name": "stdout",
     "output_type": "stream",
     "text": [
      "(array([-228.52427626+0.j        ,  -20.35057374+0.j        ,\n",
      "         -6.27225581+0.j        ,   -1.88905757+0.54105316j,\n",
      "         -1.88905757-0.54105316j,   -1.01776696+0.j        ]), array([[-0.00095483+0.j        , -0.01919842+0.j        ,\n",
      "         0.07145664+0.j        , -0.11989127-0.06841083j,\n",
      "        -0.11989127+0.06841083j, -0.11010839+0.j        ],\n",
      "       [ 0.00342452+0.j        ,  0.02026528+0.j        ,\n",
      "        -0.08113884+0.j        ,  0.36568978+0.10473879j,\n",
      "         0.36568978-0.10473879j,  0.4847811 +0.j        ],\n",
      "       [-0.0025513 +0.j        ,  0.04036745+0.j        ,\n",
      "        -0.11445084+0.j        ,  0.19797369+0.05254045j,\n",
      "         0.19797369-0.05254045j, -0.49402313+0.j        ],\n",
      "       [ 0.2182011 +0.j        ,  0.39069883+0.j        ,\n",
      "        -0.44819432+0.j        ,  0.26349541+0.06436445j,\n",
      "         0.26349541-0.06436445j,  0.11206468+0.j        ],\n",
      "       [-0.78258526+0.j        , -0.41241012+0.j        ,\n",
      "         0.50892356+0.j        , -0.7474783 +0.j        ,\n",
      "        -0.7474783 -0.j        , -0.49339419+0.j        ],\n",
      "       [ 0.58303468+0.j        , -0.82150078+0.j        ,\n",
      "         0.71786496+0.j        , -0.40241087+0.00786236j,\n",
      "        -0.40241087-0.00786236j,  0.50280041+0.j        ]]))\n",
      "[[-33.25406932 -11.20529698  -5.19393077 -11.18538878  -4.02659506\n",
      "   -2.80257716]\n",
      " [-80.9290722  -29.77550935 -10.65880906 -26.86138992 -11.6321377\n",
      "   -5.13377443]]\n"
     ]
    }
   ],
   "source": [
    "print(np.linalg.eig(A-B@K))\n",
    "\n",
    "print(K_opt)"
   ]
  }
 ],
 "metadata": {
  "colab": {
   "collapsed_sections": [],
   "name": "H_infinity_BrownianMotion.ipynb",
   "provenance": []
  },
  "gpuClass": "standard",
  "kernelspec": {
   "display_name": "Python 3.8.12 ('38')",
   "language": "python",
   "name": "python3"
  },
  "language_info": {
   "codemirror_mode": {
    "name": "ipython",
    "version": 3
   },
   "file_extension": ".py",
   "mimetype": "text/x-python",
   "name": "python",
   "nbconvert_exporter": "python",
   "pygments_lexer": "ipython3",
   "version": "3.8.12"
  },
  "vscode": {
   "interpreter": {
    "hash": "e8e58a6e0c964839778b0e18417b8a4cb326d0bc3073c19d6809a75219147292"
   }
  }
 },
 "nbformat": 4,
 "nbformat_minor": 4
}
